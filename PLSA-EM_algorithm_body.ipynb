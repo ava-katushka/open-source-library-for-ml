{
 "worksheets": [
  {
   "cells": [
    {
     "cell_type": "code",
     "execution_count": null,
     "metadata": {},
     "outputs": [],
     "input": [
      "import numpy as np\n",
      "# dimensions of arrays of themes, documents, and words\n",
      "documents = 1000\n",
      "words = 1000\n",
      "themes = 1000\n",
      "iterations = 100\n",
      "sizeOfThemes = np.zeros (themes)\n",
      "sizeOfDocuments = np.zeros (documents)\n",
      "wordsToThemes = np.ones ( ( words, themes ) )\n",
      "themesToDocuments =  np.ones ( ( themes, documents ) )\n",
      "wordsToDocuments = np.ones ( ( words, documents ) )\n",
      "fi = np.ones ( ( words, themes ) ) / themes\n",
      "psi = np.ones ( ( themes, documents ) ) / documents\n",
      "curHidden = np.zeros ( themes )"
     ],
     "language": "python",
     "prompt_number": 3
    },
    {
     "cell_type": "code",
     "execution_count": null,
     "metadata": {},
     "outputs": [],
     "input": [
      "for i in range(0,iterations) :\n",
      "    for w in range(0,words) :\n",
      "        for t in range(0,themes) :\n",
      "            for d in range(0,documents) :\n",
      "                wordsToThemes[w,t] = 0\n",
      "                themesToDocuments[t,d] = 0\n",
      "                sizeOfThemes[t] = 0\n",
      "                sizeOfDocuments[d] = 0\n",
      "    for w in range(0,words) :\n",
      "        for d in range(0,documents) :\n",
      "            s = 0\n",
      "            for t in range(0,themes) :\n",
      "                s += fi[w,t] * psi[t,d]\n",
      "            for t in range(0,themes) :\n",
      "                curHidden[t] = wordsToDocuments[w,d] * fi[w,t] * psi[t,d] / s\n",
      "                wordsToThemes[w,t] += curHidden[t]\n",
      "                themesToDocuments[t,d] += curHidden[t]\n",
      "                sizeOfThemes[t] += curHidden[t]\n",
      "                sizeOfDocuments[d] += curHidden[t]\n",
      "    for t in range(0,themes) :\n",
      "        for w in range(0,words) :\n",
      "            fi[w,t] = wordsToThemes[w,t] / sizeOfThemes[t]\n",
      "        for d in range(0,documents) :\n",
      "            psi[t,d] = themesToDocuments[t,d] / sizeOfDocuments[d]"
     ],
     "language": "python"
    }
   ]
  }
 ],
 "cells": [],
 "metadata": {
  "name": "",
  "signature": "sha256:2006fe6696d88f8cd594b0d8ab30b0f7513a945cfcee261db0fe87dff5efd182"
 },
 "nbformat": 3,
 "nbformat_minor": 0
}